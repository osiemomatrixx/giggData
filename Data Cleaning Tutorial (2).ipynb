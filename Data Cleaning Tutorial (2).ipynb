{
 "cells": [
  {
   "cell_type": "markdown",
   "metadata": {},
   "source": [
    "## Data Cleaning with Python Notebook\n",
    "\n",
    "The following notebook is used as a entry level guide to data cleaning with Python.\n",
    "\n",
    "### Step 1 - Import Libraries\n",
    "\n",
    "The first step is the import of the libraries we will need for this tutorial."
   ]
  },
  {
   "cell_type": "code",
   "execution_count": 1,
   "metadata": {},
   "outputs": [],
   "source": [
    "import numpy as np\n",
    "import pandas as pd\n",
    "import matplotlib.pyplot as plt\n",
    "import seaborn as sns\n",
    "sns.set(style=\"darkgrid\")\n",
    "import sqlite3 as sql"
   ]
  },
  {
   "cell_type": "markdown",
   "metadata": {},
   "source": [
    "### Step 2 - Load data into Pandas\n",
    "\n",
    "#### 2A - Load Data"
   ]
  },
  {
   "cell_type": "code",
   "execution_count": 2,
   "metadata": {},
   "outputs": [
    {
     "name": "stdout",
     "output_type": "stream",
     "text": [
      "   id first_name   last_name                      email  gender  street_num  \\\n",
      "0   1     Romain   Southcott  rsouthcott0@clickbank.net    Male         1.0   \n",
      "1   2     Cosimo   Molyneaux      cmolyneaux1@wiley.com    Male         NaN   \n",
      "2   3      Bambi     Westrip     bwestrip2@symantec.com  Female      4057.0   \n",
      "3   4     Roarke  Pankettman     rpankettman3@wiley.com    Male        74.0   \n",
      "4   5    Mikaela    Althorpe           malthorpe4@51.la     NaN         NaN   \n",
      "\n",
      "  street_name street_suffix         city       state  postcode  \n",
      "0   Trailsway          Road    San Diego  California   92127.0  \n",
      "1         NaN           NaN      El Paso       Texas       NaN  \n",
      "2    Arkansas        Circle  San Antonio       Texas   78220.0  \n",
      "3        Debs         Point      Memphis   Tennessee   38150.0  \n",
      "4         2nd         Drive          NaN         NaN   83732.0  \n",
      "---------------------------------------- \n",
      "\n",
      "   id                           product    cost   company\n",
      "0   1              Liners - Baking Cups   $6.36  Skipfire\n",
      "1   2        Nori Sea Weed - Gold Label  $85.74   Dynazzy\n",
      "2   3                Bar Bran Honey Nut  $65.40      Ntag\n",
      "3   4        Soup - Campbells Beef Stew  $68.16  Photojam\n",
      "4   5  Wine - Shiraz Wolf Blass Premium  $87.39      Eare\n",
      "---------------------------------------- \n",
      "\n",
      "   id purch_date  customer_num  product_num amount     paid\n",
      "0   1  3/01/2019           823           27     12  $568.92\n",
      "1   2  3/01/2019           606           28     14  $395.36\n",
      "2   3  3/01/2019           955            9     17  $510.17\n",
      "3   4  3/01/2019           577           19      3   $68.49\n",
      "4   5  3/01/2019           429            8     18  $759.42\n",
      "---------------------------------------- \n",
      "\n"
     ]
    }
   ],
   "source": [
    "# Read data from the CSV files\n",
    "customers = pd.read_csv(\"customers.csv\")\n",
    "\n",
    "# Read data from a SQLite Database\n",
    "con = sql.connect(\"remoteDB.db\")\n",
    "products = pd.read_sql_query(\"SELECT * from products\", con)\n",
    "purchases = pd.read_sql_query(\"SELECT * from purchases\", con)\n",
    "con.close()\n",
    "\n",
    "# Print out the Data Structures\n",
    "print(customers.head(5))\n",
    "print(\"---------------------------------------- \\n\")\n",
    "print(products.head(5))\n",
    "print(\"---------------------------------------- \\n\")\n",
    "print(purchases.head(5))\n",
    "print(\"---------------------------------------- \\n\")"
   ]
  },
  {
   "cell_type": "markdown",
   "metadata": {},
   "source": [
    "#### 2B - Basic Analysis"
   ]
  },
  {
   "cell_type": "code",
   "execution_count": 3,
   "metadata": {},
   "outputs": [
    {
     "name": "stdout",
     "output_type": "stream",
     "text": [
      "Customers Details:\n",
      "(1000, 11)\n",
      "id                 int64\n",
      "first_name        object\n",
      "last_name         object\n",
      "email             object\n",
      "gender            object\n",
      "street_num       float64\n",
      "street_name       object\n",
      "street_suffix     object\n",
      "city              object\n",
      "state             object\n",
      "postcode         float64\n",
      "dtype: object\n",
      "                 id first_name last_name                 email gender  \\\n",
      "count   1000.000000       1000      1000                   878    957   \n",
      "unique          NaN        932       993                   878      2   \n",
      "top             NaN      Berty  Sedworth  acocking1u@wired.com   Male   \n",
      "freq            NaN          4         3                     1    485   \n",
      "mean     500.500000        NaN       NaN                   NaN    NaN   \n",
      "std      288.819436        NaN       NaN                   NaN    NaN   \n",
      "min        1.000000        NaN       NaN                   NaN    NaN   \n",
      "25%      250.750000        NaN       NaN                   NaN    NaN   \n",
      "50%      500.500000        NaN       NaN                   NaN    NaN   \n",
      "75%      750.250000        NaN       NaN                   NaN    NaN   \n",
      "max     1000.000000        NaN       NaN                   NaN    NaN   \n",
      "\n",
      "          street_num street_name street_suffix        city  state  \\\n",
      "count     738.000000         963           963         921    920   \n",
      "unique           NaN         427            21         296     48   \n",
      "top              NaN   Cambridge         Place  Washington  Texas   \n",
      "freq             NaN           6            57          29    107   \n",
      "mean    10536.439024         NaN           NaN         NaN    NaN   \n",
      "std     23050.537603         NaN           NaN         NaN    NaN   \n",
      "min         0.000000         NaN           NaN         NaN    NaN   \n",
      "25%        21.000000         NaN           NaN         NaN    NaN   \n",
      "50%       445.500000         NaN           NaN         NaN    NaN   \n",
      "75%      6918.500000         NaN           NaN         NaN    NaN   \n",
      "max     99918.000000         NaN           NaN         NaN    NaN   \n",
      "\n",
      "            postcode  \n",
      "count     843.000000  \n",
      "unique           NaN  \n",
      "top              NaN  \n",
      "freq             NaN  \n",
      "mean    52669.548043  \n",
      "std     28140.041026  \n",
      "min       214.000000  \n",
      "25%     29279.500000  \n",
      "50%     48232.000000  \n",
      "75%     78337.500000  \n",
      "max     99812.000000  \n",
      "--------------------------- \n",
      "\n",
      "Products shape: \n",
      "(60, 4)\n",
      "id          int64\n",
      "product    object\n",
      "cost       object\n",
      "company    object\n",
      "dtype: object\n",
      "               id                 product    cost     company\n",
      "count   60.000000                      60      60          55\n",
      "unique        NaN                      58      59          50\n",
      "top           NaN  Cookies Oatmeal Raisin  $13.83  Browsezoom\n",
      "freq          NaN                       2       2           2\n",
      "mean    30.500000                     NaN     NaN         NaN\n",
      "std     17.464249                     NaN     NaN         NaN\n",
      "min      1.000000                     NaN     NaN         NaN\n",
      "25%     15.750000                     NaN     NaN         NaN\n",
      "50%     30.500000                     NaN     NaN         NaN\n",
      "75%     45.250000                     NaN     NaN         NaN\n",
      "max     60.000000                     NaN     NaN         NaN\n",
      "--------------------------- \n",
      "\n",
      "Purchases shape: \n",
      "(6000, 6)\n",
      "id               int64\n",
      "purch_date      object\n",
      "customer_num     int64\n",
      "product_num      int64\n",
      "amount          object\n",
      "paid            object\n",
      "dtype: object\n",
      "                 id  purch_date  customer_num  product_num  amount     paid\n",
      "count   6000.000000        6000   6000.000000  6000.000000  6000.0     6000\n",
      "unique          NaN         108           NaN          NaN    22.0     2470\n",
      "top             NaN  03/25/2019           NaN          NaN    13.0  $459.20\n",
      "freq            NaN         116           NaN          NaN   316.0       12\n",
      "mean    3000.500000         NaN    500.889333    30.140667     NaN      NaN\n",
      "std     1732.195139         NaN    288.377188    17.249613     NaN      NaN\n",
      "min        1.000000         NaN      1.000000     1.000000     NaN      NaN\n",
      "25%     1500.750000         NaN    244.000000    15.000000     NaN      NaN\n",
      "50%     3000.500000         NaN    511.000000    30.000000     NaN      NaN\n",
      "75%     4500.250000         NaN    751.000000    45.000000     NaN      NaN\n",
      "max     6000.000000         NaN   1000.000000    60.000000     NaN      NaN\n",
      "--------------------------- \n",
      "\n"
     ]
    }
   ],
   "source": [
    "# Describe the Shape of the Data\n",
    "print(\"Customers Details:\")\n",
    "print(customers.shape)\n",
    "print(customers.dtypes)\n",
    "print(customers.describe(include=\"all\"))\n",
    "print(\"--------------------------- \\n\")\n",
    "\n",
    "print(\"Products shape: \")\n",
    "print(products.shape)\n",
    "print(products.dtypes)\n",
    "print(products.describe(include=\"all\"))\n",
    "print(\"--------------------------- \\n\")\n",
    "\n",
    "print(\"Purchases shape: \")\n",
    "print(purchases.shape)\n",
    "print(purchases.dtypes)\n",
    "print(purchases.describe(include=\"all\"))\n",
    "print(\"--------------------------- \\n\")"
   ]
  },
  {
   "cell_type": "markdown",
   "metadata": {},
   "source": [
    "### Step 3 - Finding Missing Values\n",
    "\n",
    "#### 3A - Remove Columns"
   ]
  },
  {
   "cell_type": "code",
   "execution_count": 4,
   "metadata": {},
   "outputs": [
    {
     "data": {
      "text/plain": [
       "id             0\n",
       "first_name     0\n",
       "last_name      0\n",
       "gender        43\n",
       "city          79\n",
       "state         80\n",
       "dtype: int64"
      ]
     },
     "execution_count": 4,
     "metadata": {},
     "output_type": "execute_result"
    }
   ],
   "source": [
    "customers.drop(columns='email', inplace=True)\n",
    "customers.drop(columns='street_num', inplace=True)\n",
    "customers.drop(columns='postcode', inplace=True)\n",
    "customers.drop(columns='street_name', inplace=True)\n",
    "customers.drop(columns='street_suffix', inplace=True)\n",
    "\n",
    "customers.isnull().sum()"
   ]
  },
  {
   "cell_type": "markdown",
   "metadata": {},
   "source": [
    "#### 3B - Remove Rows"
   ]
  },
  {
   "cell_type": "code",
   "execution_count": 5,
   "metadata": {},
   "outputs": [
    {
     "name": "stdout",
     "output_type": "stream",
     "text": [
      "(848, 6)\n",
      "id             0\n",
      "first_name     0\n",
      "last_name      0\n",
      "gender        38\n",
      "city           0\n",
      "state          0\n",
      "dtype: int64\n"
     ]
    }
   ],
   "source": [
    "customers.dropna(subset = ['city'], inplace=True)\n",
    "customers.dropna(subset = ['state'], inplace=True)\n",
    "\n",
    "print(customers.shape)\n",
    "print(customers.isnull().sum())"
   ]
  },
  {
   "cell_type": "markdown",
   "metadata": {},
   "source": [
    "#### 3C - Replace Values"
   ]
  },
  {
   "cell_type": "code",
   "execution_count": 6,
   "metadata": {},
   "outputs": [
    {
     "name": "stdout",
     "output_type": "stream",
     "text": [
      "(848, 6)\n",
      "id            0\n",
      "first_name    0\n",
      "last_name     0\n",
      "gender        0\n",
      "city          0\n",
      "state         0\n",
      "dtype: int64\n",
      "id              0\n",
      "purch_date      0\n",
      "customer_num    0\n",
      "product_num     0\n",
      "amount          0\n",
      "paid            0\n",
      "dtype: int64\n",
      "id         0\n",
      "product    0\n",
      "cost       0\n",
      "company    0\n",
      "dtype: int64\n"
     ]
    }
   ],
   "source": [
    "customers[\"gender\"].fillna('Unspecified', inplace=True)\n",
    "products[\"company\"].fillna('Unspecified', inplace=True)\n",
    "\n",
    "print(customers.shape)\n",
    "print(customers.isnull().sum())\n",
    "print(purchases.isnull().sum())\n",
    "print(products.isnull().sum())"
   ]
  },
  {
   "cell_type": "markdown",
   "metadata": {},
   "source": [
    "### Part 4 - Combine Data"
   ]
  },
  {
   "cell_type": "code",
   "execution_count": 7,
   "metadata": {},
   "outputs": [
    {
     "name": "stdout",
     "output_type": "stream",
     "text": [
      "   id_x  purch_date  customer_num  product_num amount     paid  id_y  \\\n",
      "0     1   3/01/2019           823           27     12  $568.92   823   \n",
      "1  4565  04/27/2019           577           27      3  $142.23   577   \n",
      "2  5421  05/26/2019           589           27      7  $331.87   589   \n",
      "3  1954   4/11/2019            94           27      8  $208.64    94   \n",
      "4  2777  03/23/2019           483           27     12  $568.92   483   \n",
      "\n",
      "  first_name    last_name  gender            city      state  id  \\\n",
      "0   Eldredge    Columbell    Male   Pompano Beach    Florida  27   \n",
      "1        Ree  Chippendale  Female  Jefferson City   Missouri  27   \n",
      "2      Torry       Heimes    Male      Boca Raton    Florida  27   \n",
      "3       Myra    Heningham  Female       Rochester  Minnesota  27   \n",
      "4      Aleda      Euplate  Female           Tulsa   Oklahoma  27   \n",
      "\n",
      "            product    cost      company  \n",
      "0  Spaghetti Squash  $47.41  Unspecified  \n",
      "1  Spaghetti Squash  $47.41  Unspecified  \n",
      "2  Spaghetti Squash  $47.41  Unspecified  \n",
      "3  Spaghetti Squash  $47.41  Unspecified  \n",
      "4  Spaghetti Squash  $47.41  Unspecified  \n",
      "(5069, 16)\n",
      "(6000, 6)\n"
     ]
    }
   ],
   "source": [
    "combinedData = pd.merge(purchases, customers, left_on='customer_num', right_on='id', sort=False)\n",
    "combinedData = pd.merge(combinedData, products, left_on='product_num', right_on='id', sort=False)\n",
    "print(combinedData.head(5))\n",
    "print(combinedData.shape)\n",
    "print(purchases.shape)"
   ]
  },
  {
   "cell_type": "markdown",
   "metadata": {},
   "source": [
    "### Part 5 - Cleaning up the DataFrame"
   ]
  },
  {
   "cell_type": "markdown",
   "metadata": {},
   "source": [
    "#### 5A - Clean up columns"
   ]
  },
  {
   "cell_type": "code",
   "execution_count": 8,
   "metadata": {},
   "outputs": [
    {
     "name": "stdout",
     "output_type": "stream",
     "text": [
      "    purchase_id  purch_date amount     paid  customer_id first_name  \\\n",
      "0             1   3/01/2019     12  $568.92          823   Eldredge   \n",
      "1          4565  04/27/2019      3  $142.23          577        Ree   \n",
      "2          5421  05/26/2019      7  $331.87          589      Torry   \n",
      "3          1954   4/11/2019      8  $208.64           94       Myra   \n",
      "4          2777  03/23/2019     12  $568.92          483      Aleda   \n",
      "..          ...         ...    ...      ...          ...        ...   \n",
      "95         3226  03/27/2019      4  $189.64          397     Sophie   \n",
      "96          314   5/02/2019      9  $367.74          823   Eldredge   \n",
      "97          921   6/05/2019      6  $255.36          606    Beitris   \n",
      "98         4155  04/21/2019      2   $85.12          577        Ree   \n",
      "99          229   6/01/2019     10  $425.60          456   Violette   \n",
      "\n",
      "      last_name  gender            city      state  product_id  \\\n",
      "0     Columbell    Male   Pompano Beach    Florida          27   \n",
      "1   Chippendale  Female  Jefferson City   Missouri          27   \n",
      "2        Heimes    Male      Boca Raton    Florida          27   \n",
      "3     Heningham  Female       Rochester  Minnesota          27   \n",
      "4       Euplate  Female           Tulsa   Oklahoma          27   \n",
      "..          ...     ...             ...        ...         ...   \n",
      "95       Davies  Female        Billings    Montana          27   \n",
      "96    Columbell    Male   Pompano Beach    Florida          12   \n",
      "97      Dulinty  Female   Oklahoma City   Oklahoma          12   \n",
      "98  Chippendale  Female  Jefferson City   Missouri          12   \n",
      "99       Dinley  Female    Lake Charles  Louisiana          12   \n",
      "\n",
      "                    product    cost      company  \n",
      "0          Spaghetti Squash  $47.41  Unspecified  \n",
      "1          Spaghetti Squash  $47.41  Unspecified  \n",
      "2          Spaghetti Squash  $47.41  Unspecified  \n",
      "3          Spaghetti Squash  $47.41  Unspecified  \n",
      "4          Spaghetti Squash  $47.41  Unspecified  \n",
      "..                      ...     ...          ...  \n",
      "95         Spaghetti Squash  $47.41  Unspecified  \n",
      "96  Lamb Leg - Bone - In Nz  $42.56    Photofeed  \n",
      "97  Lamb Leg - Bone - In Nz  $42.56    Photofeed  \n",
      "98  Lamb Leg - Bone - In Nz  $42.56    Photofeed  \n",
      "99  Lamb Leg - Bone - In Nz  $42.56    Photofeed  \n",
      "\n",
      "[100 rows x 14 columns]\n"
     ]
    }
   ],
   "source": [
    "combinedData.drop(columns='customer_num', inplace=True)\n",
    "combinedData.drop(columns='product_num', inplace=True)\n",
    "\n",
    "combinedData = combinedData.rename(columns={'id_x':'purchase_id', 'id_y':'customer_id','id':'product_id'})\n",
    "\n",
    "print(combinedData.head(100))"
   ]
  },
  {
   "cell_type": "markdown",
   "metadata": {},
   "source": [
    "#### 5B - Find inconsistentcies"
   ]
  },
  {
   "cell_type": "code",
   "execution_count": 9,
   "metadata": {},
   "outputs": [
    {
     "name": "stdout",
     "output_type": "stream",
     "text": [
      "purchase_id     int64\n",
      "purch_date     object\n",
      "amount         object\n",
      "paid           object\n",
      "customer_id     int64\n",
      "first_name     object\n",
      "last_name      object\n",
      "gender         object\n",
      "city           object\n",
      "state          object\n",
      "product_id      int64\n",
      "product        object\n",
      "cost           object\n",
      "company        object\n",
      "dtype: object\n",
      "   purchase_id  purch_date amount     paid  customer_id first_name  \\\n",
      "0            1   3/01/2019     12  $568.92          823   Eldredge   \n",
      "1         4565  04/27/2019      3  $142.23          577        Ree   \n",
      "\n",
      "     last_name  gender            city     state  product_id  \\\n",
      "0    Columbell    Male   Pompano Beach   Florida          27   \n",
      "1  Chippendale  Female  Jefferson City  Missouri          27   \n",
      "\n",
      "            product    cost      company  \n",
      "0  Spaghetti Squash  $47.41  Unspecified  \n",
      "1  Spaghetti Squash  $47.41  Unspecified  \n"
     ]
    }
   ],
   "source": [
    "print(combinedData.dtypes)\n",
    "print(combinedData.head(2))"
   ]
  },
  {
   "cell_type": "code",
   "execution_count": 10,
   "metadata": {},
   "outputs": [
    {
     "name": "stdout",
     "output_type": "stream",
     "text": [
      "purchase_id    0\n",
      "purch_date     0\n",
      "amount         0\n",
      "paid           0\n",
      "customer_id    0\n",
      "first_name     0\n",
      "last_name      0\n",
      "gender         0\n",
      "city           0\n",
      "state          0\n",
      "product_id     0\n",
      "product        0\n",
      "cost           0\n",
      "company        0\n",
      "dtype: int64\n",
      "(5067, 14)\n",
      "purchase_id             int64\n",
      "purch_date     datetime64[ns]\n",
      "amount                float64\n",
      "paid                  float64\n",
      "customer_id             int64\n",
      "first_name             object\n",
      "last_name              object\n",
      "gender                 object\n",
      "city                   object\n",
      "state                  object\n",
      "product_id              int64\n",
      "product                object\n",
      "cost                  float64\n",
      "company                object\n",
      "dtype: object\n"
     ]
    }
   ],
   "source": [
    "combinedData.paid = combinedData['paid'].str.replace('$','')\n",
    "combinedData.cost = combinedData['cost'].str.replace('$','')\n",
    "combinedData.paid = combinedData['paid'].str.replace(',','')\n",
    "combinedData.cost = combinedData['cost'].str.replace(',','')\n",
    "\n",
    "combinedData.purch_date = pd.to_datetime(combinedData['purch_date'], errors='coerce')\n",
    "combinedData.amount = pd.to_numeric(combinedData['amount'], errors='coerce')\n",
    "combinedData.paid = pd.to_numeric(combinedData['paid'], errors='coerce')\n",
    "combinedData.cost = pd.to_numeric(combinedData['cost'], errors='coerce')\n",
    "\n",
    "combinedData.dropna(subset = ['amount'], inplace=True)\n",
    "\n",
    "print(combinedData.isnull().sum())\n",
    "print(combinedData.shape)\n",
    "print(combinedData.dtypes)"
   ]
  },
  {
   "cell_type": "markdown",
   "metadata": {},
   "source": [
    "### Part 6 - Reshaping Data\n",
    "\n",
    "#### 6A - Pivot DataFrame"
   ]
  },
  {
   "cell_type": "code",
   "execution_count": 11,
   "metadata": {},
   "outputs": [
    {
     "name": "stdout",
     "output_type": "stream",
     "text": [
      "state                                          Alabama   Alaska  Arizona  \\\n",
      "product_id product                                                         \n",
      "1          Liners - Baking Cups                   0.00     0.00    25.44   \n",
      "2          Nori Sea Weed - Gold Label          1629.06  1957.44   919.20   \n",
      "3          Bar Bran Honey Nut                  2550.60   826.64  1242.60   \n",
      "4          Soup - Campbells Beef Stew           340.80   858.75   477.12   \n",
      "5          Wine - Shiraz Wolf Blass Premium    1382.43   786.51  2184.75   \n",
      "6          Wine - White, Riesling, Semi - Dry  3175.04  1984.40  1488.30   \n",
      "7          Brandy - Bar                         431.16    62.93   530.34   \n",
      "8          Onions - White                         0.00   675.04   717.23   \n",
      "9          Lettuce - Baby Salad Greens          180.06    90.03     0.00   \n",
      "10         Sambuca - Ramazzotti                1470.11     0.00     0.00   \n",
      "\n",
      "state                                          Arkansas  California  Colorado  \\\n",
      "product_id product                                                              \n",
      "1          Liners - Baking Cups                    0.00      579.90     57.24   \n",
      "2          Nori Sea Weed - Gold Label           2057.76     4118.94   1254.38   \n",
      "3          Bar Bran Honey Nut                      0.00     6540.65   2158.20   \n",
      "4          Soup - Campbells Beef Stew            954.24     6543.36   1090.56   \n",
      "5          Wine - Shiraz Wolf Blass Premium      699.12    12336.89      0.00   \n",
      "6          Wine - White, Riesling, Semi - Dry      0.00    10069.89   3274.26   \n",
      "7          Brandy - Bar                          401.07     1783.86    207.45   \n",
      "8          Onions - White                          0.00     4343.08   1979.48   \n",
      "9          Lettuce - Baby Salad Greens             0.00      390.13    870.35   \n",
      "10         Sambuca - Ramazzotti                 2580.71     9301.19   1312.53   \n",
      "\n",
      "state                                          Connecticut  Delaware  \\\n",
      "product_id product                                                     \n",
      "1          Liners - Baking Cups                     105.39    101.80   \n",
      "2          Nori Sea Weed - Gold Label               342.95     85.74   \n",
      "3          Bar Bran Honey Nut                      1111.80      0.00   \n",
      "4          Soup - Campbells Beef Stew               477.12      0.00   \n",
      "5          Wine - Shiraz Wolf Blass Premium           0.00      0.00   \n",
      "6          Wine - White, Riesling, Semi - Dry         0.00   1389.08   \n",
      "7          Brandy - Bar                              13.83      0.00   \n",
      "8          Onions - White                          1099.12      0.00   \n",
      "9          Lettuce - Baby Salad Greens                0.00      0.00   \n",
      "10         Sambuca - Ramazzotti                     961.08    444.95   \n",
      "\n",
      "state                                          District of Columbia  Florida  \\\n",
      "product_id product                                                             \n",
      "1          Liners - Baking Cups                              150.84   321.76   \n",
      "2          Nori Sea Weed - Gold Label                       1964.31  9722.96   \n",
      "3          Bar Bran Honey Nut                               1242.60  4133.25   \n",
      "4          Soup - Campbells Beef Stew                       2181.12  1955.53   \n",
      "5          Wine - Shiraz Wolf Blass Premium                 3582.99  1835.19   \n",
      "6          Wine - White, Riesling, Semi - Dry               3175.04  5060.22   \n",
      "7          Brandy - Bar                                      165.96   830.29   \n",
      "8          Onions - White                                    379.71  3319.92   \n",
      "9          Lettuce - Baby Salad Greens                       726.85  1430.04   \n",
      "10         Sambuca - Ramazzotti                             3043.42  3826.57   \n",
      "\n",
      "state                                          ...  Pennsylvania  \\\n",
      "product_id product                             ...                 \n",
      "1          Liners - Baking Cups                ...        559.68   \n",
      "2          Nori Sea Weed - Gold Label          ...        428.70   \n",
      "3          Bar Bran Honey Nut                  ...       3284.36   \n",
      "4          Soup - Campbells Beef Stew          ...       1022.40   \n",
      "5          Wine - Shiraz Wolf Blass Premium    ...       2702.11   \n",
      "6          Wine - White, Riesling, Semi - Dry  ...      10120.44   \n",
      "7          Brandy - Bar                        ...         82.98   \n",
      "8          Onions - White                      ...       1539.09   \n",
      "9          Lettuce - Baby Salad Greens         ...       1100.47   \n",
      "10         Sambuca - Ramazzotti                ...       2580.71   \n",
      "\n",
      "state                                          Rhode Island  South Carolina  \\\n",
      "product_id product                                                            \n",
      "1          Liners - Baking Cups                         0.0            0.00   \n",
      "2          Nori Sea Weed - Gold Label                   0.0         1442.96   \n",
      "3          Bar Bran Honey Nut                           0.0          784.80   \n",
      "4          Soup - Campbells Beef Stew                   0.0         1567.68   \n",
      "5          Wine - Shiraz Wolf Blass Premium             0.0         1660.41   \n",
      "6          Wine - White, Riesling, Semi - Dry           0.0            0.00   \n",
      "7          Brandy - Bar                                 0.0          182.54   \n",
      "8          Onions - White                               0.0         1783.04   \n",
      "9          Lettuce - Baby Salad Greens                  0.0          269.49   \n",
      "10         Sambuca - Ramazzotti                         0.0         1245.86   \n",
      "\n",
      "state                                          Tennessee     Texas     Utah  \\\n",
      "product_id product                                                            \n",
      "1          Liners - Baking Cups                     0.00    365.20    76.32   \n",
      "2          Nori Sea Weed - Gold Label            1629.06   4481.55   905.44   \n",
      "3          Bar Bran Honey Nut                     981.00   2746.80     0.00   \n",
      "4          Soup - Campbells Beef Stew            1635.84   6827.65     0.00   \n",
      "5          Wine - Shiraz Wolf Blass Premium      1747.80   9858.54  2621.70   \n",
      "6          Wine - White, Riesling, Semi - Dry    4953.12   6934.37   902.90   \n",
      "7          Brandy - Bar                            55.32   1078.23   484.05   \n",
      "8          Onions - White                         557.32   3635.07     0.00   \n",
      "9          Lettuce - Baby Salad Greens            180.06   2967.74   300.10   \n",
      "10         Sambuca - Ramazzotti                     0.00  10344.07     0.00   \n",
      "\n",
      "state                                          Virginia  Washington  \\\n",
      "product_id product                                                    \n",
      "1          Liners - Baking Cups                  108.12      101.76   \n",
      "2          Nori Sea Weed - Gold Label           3199.80        0.00   \n",
      "3          Bar Bran Honey Nut                    596.40        0.00   \n",
      "4          Soup - Campbells Beef Stew           3816.96      763.42   \n",
      "5          Wine - Shiraz Wolf Blass Premium        0.00     2694.19   \n",
      "6          Wine - White, Riesling, Semi - Dry   1984.40     4790.28   \n",
      "7          Brandy - Bar                          138.30      525.54   \n",
      "8          Onions - White                        337.52        0.00   \n",
      "9          Lettuce - Baby Salad Greens           728.65      909.33   \n",
      "10         Sambuca - Ramazzotti                  444.95      355.96   \n",
      "\n",
      "state                                          West Virginia  Wisconsin  \n",
      "product_id product                                                       \n",
      "1          Liners - Baking Cups                         0.00       0.00  \n",
      "2          Nori Sea Weed - Gold Label                   0.00       0.00  \n",
      "3          Bar Bran Honey Nut                          65.40    1046.40  \n",
      "4          Soup - Campbells Beef Stew                1145.00       0.00  \n",
      "5          Wine - Shiraz Wolf Blass Premium          1747.80    2731.74  \n",
      "6          Wine - White, Riesling, Semi - Dry        4564.12       0.00  \n",
      "7          Brandy - Bar                               179.79     290.43  \n",
      "8          Onions - White                               0.00       0.00  \n",
      "9          Lettuce - Baby Salad Greens                390.13     660.22  \n",
      "10         Sambuca - Ramazzotti                      1245.86     822.24  \n",
      "\n",
      "[10 rows x 48 columns]\n"
     ]
    }
   ],
   "source": [
    "reshapedData = combinedData.pivot_table(index=['product_id', 'product'], columns='state', values='paid', aggfunc=np.sum)\n",
    "reshapedData = reshapedData.fillna(0)\n",
    "print(reshapedData.head(10))"
   ]
  },
  {
   "cell_type": "markdown",
   "metadata": {},
   "source": [
    "#### 6B - Group By and Sum"
   ]
  },
  {
   "cell_type": "code",
   "execution_count": 12,
   "metadata": {},
   "outputs": [
    {
     "name": "stdout",
     "output_type": "stream",
     "text": [
      "                                                                            amount  \\\n",
      "customer_id first_name last_name product_id product                                  \n",
      "1           Romain     Southcott 19         Loaf Pan - 2 Lb, Foil              5.0   \n",
      "                                 28         Wine - Niagara,vqa Reisling       13.0   \n",
      "                                 41         Squash - Acorn                     5.0   \n",
      "                                 54         Plate - Foam, Bread And Butter     1.0   \n",
      "2           Cosimo     Molyneaux 11         Coffee - Decafenated               5.0   \n",
      "                                 20         Bagel - Everything Presliced       2.0   \n",
      "                                 21         Bagel - Whole White Sesame        20.0   \n",
      "                                 23         Puree - Blackcurrant              16.0   \n",
      "                                 33         Duck - Legs                        5.0   \n",
      "                                 50         Silicone Paper 16.5x24            19.0   \n",
      "\n",
      "                                                                               paid  \\\n",
      "customer_id first_name last_name product_id product                                   \n",
      "1           Romain     Southcott 19         Loaf Pan - 2 Lb, Foil             62.80   \n",
      "                                 28         Wine - Niagara,vqa Reisling      367.12   \n",
      "                                 41         Squash - Acorn                   326.75   \n",
      "                                 54         Plate - Foam, Bread And Butter    22.67   \n",
      "2           Cosimo     Molyneaux 11         Coffee - Decafenated             107.35   \n",
      "                                 20         Bagel - Everything Presliced     174.10   \n",
      "                                 21         Bagel - Whole White Sesame      1809.60   \n",
      "                                 23         Puree - Blackcurrant             260.32   \n",
      "                                 33         Duck - Legs                      411.10   \n",
      "                                 50         Silicone Paper 16.5x24          1215.62   \n",
      "\n",
      "                                                                             cost  \n",
      "customer_id first_name last_name product_id product                                \n",
      "1           Romain     Southcott 19         Loaf Pan - 2 Lb, Foil           22.83  \n",
      "                                 28         Wine - Niagara,vqa Reisling     28.24  \n",
      "                                 41         Squash - Acorn                  65.35  \n",
      "                                 54         Plate - Foam, Bread And Butter  37.79  \n",
      "2           Cosimo     Molyneaux 11         Coffee - Decafenated            21.47  \n",
      "                                 20         Bagel - Everything Presliced    87.05  \n",
      "                                 21         Bagel - Whole White Sesame      90.48  \n",
      "                                 23         Puree - Blackcurrant            16.27  \n",
      "                                 33         Duck - Legs                     82.22  \n",
      "                                 50         Silicone Paper 16.5x24          63.98  \n"
     ]
    }
   ],
   "source": [
    "volumesData = combinedData.groupby(by=['customer_id','first_name','last_name','product_id','product']).sum()\n",
    "volumesData.drop(columns='purchase_id', inplace=True)\n",
    "print(volumesData.head(10))"
   ]
  },
  {
   "cell_type": "code",
   "execution_count": 13,
   "metadata": {},
   "outputs": [
    {
     "name": "stdout",
     "output_type": "stream",
     "text": [
      "                  state  amount       paid      cost\n",
      "0               Alabama   967.0   56519.13   5294.90\n",
      "1                Alaska   513.0   27186.55   2430.31\n",
      "2               Arizona   736.0   40363.29   4256.40\n",
      "3              Arkansas   403.0   21333.09   1849.86\n",
      "4            California  5595.0  297546.31  29974.50\n",
      "5              Colorado  1037.0   51824.51   5148.72\n",
      "6           Connecticut   623.0   29575.52   2969.43\n",
      "7              Delaware   296.0   12884.95   1390.68\n",
      "8  District of Columbia  1660.0   88180.03   9052.18\n",
      "9               Florida  4065.0  201024.66  21380.35\n"
     ]
    }
   ],
   "source": [
    "totalsData = combinedData.groupby(by='state').sum().reset_index()\n",
    "totalsData.drop(columns=['purchase_id','customer_id','product_id'], inplace=True)\n",
    "print(totalsData.head(10))"
   ]
  },
  {
   "cell_type": "markdown",
   "metadata": {},
   "source": [
    "### Part 8 - Visualizations\n",
    "\n",
    "#### 8A - Bar Charts"
   ]
  },
  {
   "cell_type": "code",
   "execution_count": 14,
   "metadata": {},
   "outputs": [
    {
     "data": {
      "text/plain": [
       "[Text(0, 0, 'Alabama'),\n",
       " Text(0, 0, 'Alaska'),\n",
       " Text(0, 0, 'Arizona'),\n",
       " Text(0, 0, 'Arkansas'),\n",
       " Text(0, 0, 'California'),\n",
       " Text(0, 0, 'Colorado'),\n",
       " Text(0, 0, 'Connecticut'),\n",
       " Text(0, 0, 'Delaware'),\n",
       " Text(0, 0, 'District of Columbia'),\n",
       " Text(0, 0, 'Florida'),\n",
       " Text(0, 0, 'Georgia'),\n",
       " Text(0, 0, 'Hawaii'),\n",
       " Text(0, 0, 'Idaho'),\n",
       " Text(0, 0, 'Illinois'),\n",
       " Text(0, 0, 'Indiana'),\n",
       " Text(0, 0, 'Iowa'),\n",
       " Text(0, 0, 'Kansas'),\n",
       " Text(0, 0, 'Kentucky'),\n",
       " Text(0, 0, 'Louisiana'),\n",
       " Text(0, 0, 'Maine'),\n",
       " Text(0, 0, 'Maryland'),\n",
       " Text(0, 0, 'Massachusetts'),\n",
       " Text(0, 0, 'Michigan'),\n",
       " Text(0, 0, 'Minnesota'),\n",
       " Text(0, 0, 'Mississippi'),\n",
       " Text(0, 0, 'Missouri'),\n",
       " Text(0, 0, 'Montana'),\n",
       " Text(0, 0, 'Nebraska'),\n",
       " Text(0, 0, 'Nevada'),\n",
       " Text(0, 0, 'New Hampshire'),\n",
       " Text(0, 0, 'New Jersey'),\n",
       " Text(0, 0, 'New Mexico'),\n",
       " Text(0, 0, 'New York'),\n",
       " Text(0, 0, 'North Carolina'),\n",
       " Text(0, 0, 'North Dakota'),\n",
       " Text(0, 0, 'Ohio'),\n",
       " Text(0, 0, 'Oklahoma'),\n",
       " Text(0, 0, 'Oregon'),\n",
       " Text(0, 0, 'Pennsylvania'),\n",
       " Text(0, 0, 'Rhode Island'),\n",
       " Text(0, 0, 'South Carolina'),\n",
       " Text(0, 0, 'Tennessee'),\n",
       " Text(0, 0, 'Texas'),\n",
       " Text(0, 0, 'Utah'),\n",
       " Text(0, 0, 'Virginia'),\n",
       " Text(0, 0, 'Washington'),\n",
       " Text(0, 0, 'West Virginia'),\n",
       " Text(0, 0, 'Wisconsin')]"
      ]
     },
     "execution_count": 14,
     "metadata": {},
     "output_type": "execute_result"
    },
    {
     "data": {
      "image/png": "[encoded data removed]",
      "text/plain": [
       "<Figure size 1440x720 with 1 Axes>"
      ]
     },
     "metadata": {
      "needs_background": "light"
     },
     "output_type": "display_data"
    }
   ],
   "source": [
    "plt.figure(figsize=(20,10))\n",
    "stateTotalsChart = sns.barplot(data=totalsData, x='state',y='amount')\n",
    "stateTotalsChart.set_xticklabels(stateTotalsChart.get_xticklabels(), rotation=45, horizontalalignment='right')"
   ]
  },
  {
   "cell_type": "markdown",
   "metadata": {},
   "source": [
    "#### 8B - Line Charts"
   ]
  },
  {
   "cell_type": "code",
   "execution_count": 15,
   "metadata": {},
   "outputs": [
    {
     "name": "stdout",
     "output_type": "stream",
     "text": [
      "  purch_date  amount      paid     cost\n",
      "0 2019-03-01   422.0  19128.27  2014.65\n",
      "1 2019-03-02   488.0  24629.88  2239.34\n",
      "2 2019-03-03   473.0  24459.16  2058.73\n",
      "3 2019-03-04   447.0  23859.37  1955.55\n",
      "4 2019-03-05   279.0  14423.21  1352.08\n",
      "5 2019-03-06   448.0  23312.47  2388.39\n",
      "6 2019-03-07   332.0  19678.01  1611.28\n",
      "7 2019-03-08   453.0  23463.04  2341.59\n",
      "8 2019-03-09   477.0  23426.75  2588.32\n",
      "9 2019-03-10   479.0  28439.95  2712.51\n"
     ]
    }
   ],
   "source": [
    "purchasesByDay = combinedData.groupby(by='purch_date').sum().reset_index()\n",
    "purchasesByDay.drop(columns=['purchase_id','customer_id','product_id'], inplace=True)\n",
    "print(purchasesByDay.head(10))"
   ]
  },
  {
   "cell_type": "code",
   "execution_count": 16,
   "metadata": {},
   "outputs": [
    {
     "name": "stderr",
     "output_type": "stream",
     "text": [
      "E:\\Development\\Anaconda\\lib\\site-packages\\pandas\\plotting\\_matplotlib\\converter.py:103: FutureWarning: Using an implicitly registered datetime converter for a matplotlib plotting method. The converter was registered by pandas on import. Future versions of pandas will require you to explicitly register matplotlib converters.\n",
      "\n",
      "To register the converters:\n",
      "\t>>> from pandas.plotting import register_matplotlib_converters\n",
      "\t>>> register_matplotlib_converters()\n",
      "  warnings.warn(msg, FutureWarning)\n"
     ]
    },
    {
     "data": {
      "image/png": "[encoded data removed]",
      "text/plain": [
       "<Figure size 1440x720 with 1 Axes>"
      ]
     },
     "metadata": {
      "needs_background": "light"
     },
     "output_type": "display_data"
    }
   ],
   "source": [
    "plt.figure(figsize=(20,10))\n",
    "dailyTotalsChart = sns.lineplot(data=purchasesByDay, x='purch_date',y='amount')"
   ]
  }
 ],
 "metadata": {
  "kernelspec": {
   "display_name": "Python 3",
   "language": "python",
   "name": "python3"
  },
  "language_info": {
   "codemirror_mode": {
    "name": "ipython",
    "version": 3
   },
   "file_extension": ".py",
   "mimetype": "text/x-python",
   "name": "python",
   "nbconvert_exporter": "python",
   "pygments_lexer": "ipython3",
   "version": "3.7.4"
  }
 },
 "nbformat": 4,
 "nbformat_minor": 2
}
